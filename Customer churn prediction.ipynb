{
 "cells": [
  {
   "cell_type": "code",
   "execution_count": 32,
   "id": "a378f91e",
   "metadata": {},
   "outputs": [],
   "source": [
    "import pandas as pd\n",
    "import numpy as np\n",
    "\n",
    "from sklearn.preprocessing import OneHotEncoder,MinMaxScaler\n",
    "from sklearn.impute import SimpleImputer\n",
    "from sklearn.model_selection import train_test_split\n",
    "from sklearn.linear_model import LogisticRegression\n",
    "import seaborn as sns\n",
    "import matplotlib.pyplot as plt\n",
    "\n",
    "from sklearn.pipeline import Pipeline\n",
    "from sklearn.compose import ColumnTransformer\n",
    "\n",
    "\n",
    "from sklearn.metrics import confusion_matrix, accuracy_score, recall_score, precision_score, classification_report, f1_score\n"
   ]
  },
  {
   "cell_type": "code",
   "execution_count": 2,
   "id": "dd5febca",
   "metadata": {},
   "outputs": [],
   "source": [
    "data = pd.read_excel('customer_churn_large_dataset.xlsx')"
   ]
  },
  {
   "cell_type": "code",
   "execution_count": 3,
   "id": "8ec452f4",
   "metadata": {},
   "outputs": [
    {
     "data": {
      "text/html": [
       "<div>\n",
       "<style scoped>\n",
       "    .dataframe tbody tr th:only-of-type {\n",
       "        vertical-align: middle;\n",
       "    }\n",
       "\n",
       "    .dataframe tbody tr th {\n",
       "        vertical-align: top;\n",
       "    }\n",
       "\n",
       "    .dataframe thead th {\n",
       "        text-align: right;\n",
       "    }\n",
       "</style>\n",
       "<table border=\"1\" class=\"dataframe\">\n",
       "  <thead>\n",
       "    <tr style=\"text-align: right;\">\n",
       "      <th></th>\n",
       "      <th>CustomerID</th>\n",
       "      <th>Name</th>\n",
       "      <th>Age</th>\n",
       "      <th>Gender</th>\n",
       "      <th>Location</th>\n",
       "      <th>Subscription_Length_Months</th>\n",
       "      <th>Monthly_Bill</th>\n",
       "      <th>Total_Usage_GB</th>\n",
       "      <th>Churn</th>\n",
       "    </tr>\n",
       "  </thead>\n",
       "  <tbody>\n",
       "    <tr>\n",
       "      <th>0</th>\n",
       "      <td>1</td>\n",
       "      <td>Customer_1</td>\n",
       "      <td>63</td>\n",
       "      <td>Male</td>\n",
       "      <td>Los Angeles</td>\n",
       "      <td>17</td>\n",
       "      <td>73.36</td>\n",
       "      <td>236</td>\n",
       "      <td>0</td>\n",
       "    </tr>\n",
       "    <tr>\n",
       "      <th>1</th>\n",
       "      <td>2</td>\n",
       "      <td>Customer_2</td>\n",
       "      <td>62</td>\n",
       "      <td>Female</td>\n",
       "      <td>New York</td>\n",
       "      <td>1</td>\n",
       "      <td>48.76</td>\n",
       "      <td>172</td>\n",
       "      <td>0</td>\n",
       "    </tr>\n",
       "    <tr>\n",
       "      <th>2</th>\n",
       "      <td>3</td>\n",
       "      <td>Customer_3</td>\n",
       "      <td>24</td>\n",
       "      <td>Female</td>\n",
       "      <td>Los Angeles</td>\n",
       "      <td>5</td>\n",
       "      <td>85.47</td>\n",
       "      <td>460</td>\n",
       "      <td>0</td>\n",
       "    </tr>\n",
       "    <tr>\n",
       "      <th>3</th>\n",
       "      <td>4</td>\n",
       "      <td>Customer_4</td>\n",
       "      <td>36</td>\n",
       "      <td>Female</td>\n",
       "      <td>Miami</td>\n",
       "      <td>3</td>\n",
       "      <td>97.94</td>\n",
       "      <td>297</td>\n",
       "      <td>1</td>\n",
       "    </tr>\n",
       "    <tr>\n",
       "      <th>4</th>\n",
       "      <td>5</td>\n",
       "      <td>Customer_5</td>\n",
       "      <td>46</td>\n",
       "      <td>Female</td>\n",
       "      <td>Miami</td>\n",
       "      <td>19</td>\n",
       "      <td>58.14</td>\n",
       "      <td>266</td>\n",
       "      <td>0</td>\n",
       "    </tr>\n",
       "  </tbody>\n",
       "</table>\n",
       "</div>"
      ],
      "text/plain": [
       "   CustomerID        Name  Age  Gender     Location  \\\n",
       "0           1  Customer_1   63    Male  Los Angeles   \n",
       "1           2  Customer_2   62  Female     New York   \n",
       "2           3  Customer_3   24  Female  Los Angeles   \n",
       "3           4  Customer_4   36  Female        Miami   \n",
       "4           5  Customer_5   46  Female        Miami   \n",
       "\n",
       "   Subscription_Length_Months  Monthly_Bill  Total_Usage_GB  Churn  \n",
       "0                          17         73.36             236      0  \n",
       "1                           1         48.76             172      0  \n",
       "2                           5         85.47             460      0  \n",
       "3                           3         97.94             297      1  \n",
       "4                          19         58.14             266      0  "
      ]
     },
     "execution_count": 3,
     "metadata": {},
     "output_type": "execute_result"
    }
   ],
   "source": [
    "data.head(5)"
   ]
  },
  {
   "cell_type": "code",
   "execution_count": 4,
   "id": "4e497571",
   "metadata": {
    "scrolled": true
   },
   "outputs": [
    {
     "name": "stdout",
     "output_type": "stream",
     "text": [
      "<class 'pandas.core.frame.DataFrame'>\n",
      "RangeIndex: 100000 entries, 0 to 99999\n",
      "Data columns (total 9 columns):\n",
      " #   Column                      Non-Null Count   Dtype  \n",
      "---  ------                      --------------   -----  \n",
      " 0   CustomerID                  100000 non-null  int64  \n",
      " 1   Name                        100000 non-null  object \n",
      " 2   Age                         100000 non-null  int64  \n",
      " 3   Gender                      100000 non-null  object \n",
      " 4   Location                    100000 non-null  object \n",
      " 5   Subscription_Length_Months  100000 non-null  int64  \n",
      " 6   Monthly_Bill                100000 non-null  float64\n",
      " 7   Total_Usage_GB              100000 non-null  int64  \n",
      " 8   Churn                       100000 non-null  int64  \n",
      "dtypes: float64(1), int64(5), object(3)\n",
      "memory usage: 6.9+ MB\n"
     ]
    }
   ],
   "source": [
    "data.info()"
   ]
  },
  {
   "cell_type": "markdown",
   "id": "29351023",
   "metadata": {},
   "source": [
    "# Data Preprocessing"
   ]
  },
  {
   "cell_type": "code",
   "execution_count": 5,
   "id": "38165dec",
   "metadata": {},
   "outputs": [],
   "source": [
    "data.drop_duplicates(inplace = True)"
   ]
  },
  {
   "cell_type": "code",
   "execution_count": 6,
   "id": "01675eaf",
   "metadata": {},
   "outputs": [
    {
     "data": {
      "text/plain": [
       "CustomerID                    0\n",
       "Name                          0\n",
       "Age                           0\n",
       "Gender                        0\n",
       "Location                      0\n",
       "Subscription_Length_Months    0\n",
       "Monthly_Bill                  0\n",
       "Total_Usage_GB                0\n",
       "Churn                         0\n",
       "dtype: int64"
      ]
     },
     "execution_count": 6,
     "metadata": {},
     "output_type": "execute_result"
    }
   ],
   "source": [
    "data.isna().sum()"
   ]
  },
  {
   "cell_type": "code",
   "execution_count": 7,
   "id": "3a2bd1df",
   "metadata": {},
   "outputs": [
    {
     "data": {
      "text/html": [
       "<div>\n",
       "<style scoped>\n",
       "    .dataframe tbody tr th:only-of-type {\n",
       "        vertical-align: middle;\n",
       "    }\n",
       "\n",
       "    .dataframe tbody tr th {\n",
       "        vertical-align: top;\n",
       "    }\n",
       "\n",
       "    .dataframe thead th {\n",
       "        text-align: right;\n",
       "    }\n",
       "</style>\n",
       "<table border=\"1\" class=\"dataframe\">\n",
       "  <thead>\n",
       "    <tr style=\"text-align: right;\">\n",
       "      <th></th>\n",
       "      <th>CustomerID</th>\n",
       "      <th>Age</th>\n",
       "      <th>Subscription_Length_Months</th>\n",
       "      <th>Monthly_Bill</th>\n",
       "      <th>Total_Usage_GB</th>\n",
       "      <th>Churn</th>\n",
       "    </tr>\n",
       "  </thead>\n",
       "  <tbody>\n",
       "    <tr>\n",
       "      <th>count</th>\n",
       "      <td>100000.000000</td>\n",
       "      <td>100000.000000</td>\n",
       "      <td>100000.000000</td>\n",
       "      <td>100000.000000</td>\n",
       "      <td>100000.000000</td>\n",
       "      <td>100000.000000</td>\n",
       "    </tr>\n",
       "    <tr>\n",
       "      <th>mean</th>\n",
       "      <td>50000.500000</td>\n",
       "      <td>44.027020</td>\n",
       "      <td>12.490100</td>\n",
       "      <td>65.053197</td>\n",
       "      <td>274.393650</td>\n",
       "      <td>0.497790</td>\n",
       "    </tr>\n",
       "    <tr>\n",
       "      <th>std</th>\n",
       "      <td>28867.657797</td>\n",
       "      <td>15.280283</td>\n",
       "      <td>6.926461</td>\n",
       "      <td>20.230696</td>\n",
       "      <td>130.463063</td>\n",
       "      <td>0.499998</td>\n",
       "    </tr>\n",
       "    <tr>\n",
       "      <th>min</th>\n",
       "      <td>1.000000</td>\n",
       "      <td>18.000000</td>\n",
       "      <td>1.000000</td>\n",
       "      <td>30.000000</td>\n",
       "      <td>50.000000</td>\n",
       "      <td>0.000000</td>\n",
       "    </tr>\n",
       "    <tr>\n",
       "      <th>25%</th>\n",
       "      <td>25000.750000</td>\n",
       "      <td>31.000000</td>\n",
       "      <td>6.000000</td>\n",
       "      <td>47.540000</td>\n",
       "      <td>161.000000</td>\n",
       "      <td>0.000000</td>\n",
       "    </tr>\n",
       "    <tr>\n",
       "      <th>50%</th>\n",
       "      <td>50000.500000</td>\n",
       "      <td>44.000000</td>\n",
       "      <td>12.000000</td>\n",
       "      <td>65.010000</td>\n",
       "      <td>274.000000</td>\n",
       "      <td>0.000000</td>\n",
       "    </tr>\n",
       "    <tr>\n",
       "      <th>75%</th>\n",
       "      <td>75000.250000</td>\n",
       "      <td>57.000000</td>\n",
       "      <td>19.000000</td>\n",
       "      <td>82.640000</td>\n",
       "      <td>387.000000</td>\n",
       "      <td>1.000000</td>\n",
       "    </tr>\n",
       "    <tr>\n",
       "      <th>max</th>\n",
       "      <td>100000.000000</td>\n",
       "      <td>70.000000</td>\n",
       "      <td>24.000000</td>\n",
       "      <td>100.000000</td>\n",
       "      <td>500.000000</td>\n",
       "      <td>1.000000</td>\n",
       "    </tr>\n",
       "  </tbody>\n",
       "</table>\n",
       "</div>"
      ],
      "text/plain": [
       "          CustomerID            Age  Subscription_Length_Months  \\\n",
       "count  100000.000000  100000.000000               100000.000000   \n",
       "mean    50000.500000      44.027020                   12.490100   \n",
       "std     28867.657797      15.280283                    6.926461   \n",
       "min         1.000000      18.000000                    1.000000   \n",
       "25%     25000.750000      31.000000                    6.000000   \n",
       "50%     50000.500000      44.000000                   12.000000   \n",
       "75%     75000.250000      57.000000                   19.000000   \n",
       "max    100000.000000      70.000000                   24.000000   \n",
       "\n",
       "        Monthly_Bill  Total_Usage_GB          Churn  \n",
       "count  100000.000000   100000.000000  100000.000000  \n",
       "mean       65.053197      274.393650       0.497790  \n",
       "std        20.230696      130.463063       0.499998  \n",
       "min        30.000000       50.000000       0.000000  \n",
       "25%        47.540000      161.000000       0.000000  \n",
       "50%        65.010000      274.000000       0.000000  \n",
       "75%        82.640000      387.000000       1.000000  \n",
       "max       100.000000      500.000000       1.000000  "
      ]
     },
     "execution_count": 7,
     "metadata": {},
     "output_type": "execute_result"
    }
   ],
   "source": [
    "data.describe()"
   ]
  },
  {
   "cell_type": "code",
   "execution_count": 8,
   "id": "00b615ef",
   "metadata": {},
   "outputs": [
    {
     "data": {
      "text/plain": [
       "(100000, 9)"
      ]
     },
     "execution_count": 8,
     "metadata": {},
     "output_type": "execute_result"
    }
   ],
   "source": [
    "data.shape"
   ]
  },
  {
   "cell_type": "code",
   "execution_count": 9,
   "id": "22460468",
   "metadata": {},
   "outputs": [],
   "source": [
    "data = data.reset_index().drop(columns = 'index')"
   ]
  },
  {
   "cell_type": "code",
   "execution_count": 10,
   "id": "77f0569f",
   "metadata": {},
   "outputs": [
    {
     "data": {
      "text/html": [
       "<div>\n",
       "<style scoped>\n",
       "    .dataframe tbody tr th:only-of-type {\n",
       "        vertical-align: middle;\n",
       "    }\n",
       "\n",
       "    .dataframe tbody tr th {\n",
       "        vertical-align: top;\n",
       "    }\n",
       "\n",
       "    .dataframe thead th {\n",
       "        text-align: right;\n",
       "    }\n",
       "</style>\n",
       "<table border=\"1\" class=\"dataframe\">\n",
       "  <thead>\n",
       "    <tr style=\"text-align: right;\">\n",
       "      <th></th>\n",
       "      <th>CustomerID</th>\n",
       "      <th>Name</th>\n",
       "      <th>Age</th>\n",
       "      <th>Gender</th>\n",
       "      <th>Location</th>\n",
       "      <th>Subscription_Length_Months</th>\n",
       "      <th>Monthly_Bill</th>\n",
       "      <th>Total_Usage_GB</th>\n",
       "      <th>Churn</th>\n",
       "    </tr>\n",
       "  </thead>\n",
       "  <tbody>\n",
       "    <tr>\n",
       "      <th>0</th>\n",
       "      <td>1</td>\n",
       "      <td>Customer_1</td>\n",
       "      <td>63</td>\n",
       "      <td>Male</td>\n",
       "      <td>Los Angeles</td>\n",
       "      <td>17</td>\n",
       "      <td>73.36</td>\n",
       "      <td>236</td>\n",
       "      <td>0</td>\n",
       "    </tr>\n",
       "    <tr>\n",
       "      <th>1</th>\n",
       "      <td>2</td>\n",
       "      <td>Customer_2</td>\n",
       "      <td>62</td>\n",
       "      <td>Female</td>\n",
       "      <td>New York</td>\n",
       "      <td>1</td>\n",
       "      <td>48.76</td>\n",
       "      <td>172</td>\n",
       "      <td>0</td>\n",
       "    </tr>\n",
       "  </tbody>\n",
       "</table>\n",
       "</div>"
      ],
      "text/plain": [
       "   CustomerID        Name  Age  Gender     Location  \\\n",
       "0           1  Customer_1   63    Male  Los Angeles   \n",
       "1           2  Customer_2   62  Female     New York   \n",
       "\n",
       "   Subscription_Length_Months  Monthly_Bill  Total_Usage_GB  Churn  \n",
       "0                          17         73.36             236      0  \n",
       "1                           1         48.76             172      0  "
      ]
     },
     "execution_count": 10,
     "metadata": {},
     "output_type": "execute_result"
    }
   ],
   "source": [
    "data.head(2)"
   ]
  },
  {
   "cell_type": "code",
   "execution_count": 11,
   "id": "2952211f",
   "metadata": {
    "scrolled": true
   },
   "outputs": [],
   "source": [
    "data = data.drop(columns='Name') ##can be recognized using customerID"
   ]
  },
  {
   "cell_type": "code",
   "execution_count": 12,
   "id": "1dcf5817",
   "metadata": {},
   "outputs": [
    {
     "data": {
      "text/plain": [
       "2"
      ]
     },
     "execution_count": 12,
     "metadata": {},
     "output_type": "execute_result"
    }
   ],
   "source": [
    "data['Gender'].nunique()"
   ]
  },
  {
   "cell_type": "code",
   "execution_count": 13,
   "id": "956ab9a0",
   "metadata": {},
   "outputs": [
    {
     "data": {
      "text/plain": [
       "array(['Los Angeles', 'New York', 'Miami', 'Chicago', 'Houston'],\n",
       "      dtype=object)"
      ]
     },
     "execution_count": 13,
     "metadata": {},
     "output_type": "execute_result"
    }
   ],
   "source": [
    "data['Location'].unique()"
   ]
  },
  {
   "cell_type": "code",
   "execution_count": 14,
   "id": "327cf16f",
   "metadata": {},
   "outputs": [
    {
     "name": "stdout",
     "output_type": "stream",
     "text": [
      "CustomerID\n"
     ]
    },
    {
     "data": {
      "image/png": "[encoded data removed]",
      "text/plain": [
       "<Figure size 640x480 with 1 Axes>"
      ]
     },
     "metadata": {},
     "output_type": "display_data"
    },
    {
     "name": "stdout",
     "output_type": "stream",
     "text": [
      "Age\n"
     ]
    },
    {
     "data": {
      "image/png": "[encoded data removed]",
      "text/plain": [
       "<Figure size 640x480 with 1 Axes>"
      ]
     },
     "metadata": {},
     "output_type": "display_data"
    },
    {
     "name": "stdout",
     "output_type": "stream",
     "text": [
      "Subscription_Length_Months\n"
     ]
    },
    {
     "data": {
      "image/png": "[encoded data removed]",
      "text/plain": [
       "<Figure size 640x480 with 1 Axes>"
      ]
     },
     "metadata": {},
     "output_type": "display_data"
    },
    {
     "name": "stdout",
     "output_type": "stream",
     "text": [
      "Monthly_Bill\n"
     ]
    },
    {
     "data": {
      "image/png": "[encoded data removed]",
      "text/plain": [
       "<Figure size 640x480 with 1 Axes>"
      ]
     },
     "metadata": {},
     "output_type": "display_data"
    },
    {
     "name": "stdout",
     "output_type": "stream",
     "text": [
      "Total_Usage_GB\n"
     ]
    },
    {
     "data": {
      "image/png": "[encoded data removed]",
      "text/plain": [
       "<Figure size 640x480 with 1 Axes>"
      ]
     },
     "metadata": {},
     "output_type": "display_data"
    },
    {
     "name": "stdout",
     "output_type": "stream",
     "text": [
      "Churn\n"
     ]
    },
    {
     "data": {
      "image/png": "[encoded data removed]",
      "text/plain": [
       "<Figure size 640x480 with 1 Axes>"
      ]
     },
     "metadata": {},
     "output_type": "display_data"
    }
   ],
   "source": [
    "for col in data.select_dtypes(include = np.number).columns:\n",
    "    print(col)\n",
    "    sns.boxplot(data[col])\n",
    "    plt.show()"
   ]
  },
  {
   "cell_type": "markdown",
   "id": "244b93a3",
   "metadata": {},
   "source": [
    "## No outliers in the given data"
   ]
  },
  {
   "cell_type": "markdown",
   "id": "33988230",
   "metadata": {},
   "source": [
    "# Feature Engineering"
   ]
  },
  {
   "cell_type": "code",
   "execution_count": 15,
   "id": "64ff7bdf",
   "metadata": {},
   "outputs": [
    {
     "data": {
      "text/plain": [
       "array([63, 62, 24, 36, 46, 67, 30, 20, 53, 50, 44, 34, 28, 42, 55, 43, 31,\n",
       "       41, 58, 64, 70, 18, 25, 27, 66, 29, 60, 26, 45, 19, 37, 49, 38, 57,\n",
       "       47, 48, 40, 21, 33, 51, 35, 69, 61, 52, 39, 56, 59, 65, 22, 54, 68,\n",
       "       32, 23], dtype=int64)"
      ]
     },
     "execution_count": 15,
     "metadata": {},
     "output_type": "execute_result"
    }
   ],
   "source": [
    "data['Age'].unique()"
   ]
  },
  {
   "cell_type": "code",
   "execution_count": 16,
   "id": "93d42e46",
   "metadata": {},
   "outputs": [],
   "source": [
    "data['Age_range'] = pd.cut(data['Age'], bins=[0, 18, 25, 35, 50, 65, 100], labels=['0-18', '19-25', '26-35', '36-50', '51-65', '65+'])"
   ]
  },
  {
   "cell_type": "code",
   "execution_count": 17,
   "id": "7b5f7b61",
   "metadata": {},
   "outputs": [
    {
     "data": {
      "text/plain": [
       "<Axes: xlabel='Age_range', ylabel='count'>"
      ]
     },
     "execution_count": 17,
     "metadata": {},
     "output_type": "execute_result"
    },
    {
     "data": {
      "image/png": "[encoded data removed]",
      "text/plain": [
       "<Figure size 640x480 with 1 Axes>"
      ]
     },
     "metadata": {},
     "output_type": "display_data"
    }
   ],
   "source": [
    "sns.countplot(x= 'Age_range', data = data)"
   ]
  },
  {
   "cell_type": "code",
   "execution_count": 18,
   "id": "5861dabc",
   "metadata": {},
   "outputs": [
    {
     "data": {
      "text/plain": [
       "<Axes: ylabel='Location'>"
      ]
     },
     "execution_count": 18,
     "metadata": {},
     "output_type": "execute_result"
    },
    {
     "data": {
      "image/png": "[encoded data removed]",
      "text/plain": [
       "<Figure size 640x480 with 1 Axes>"
      ]
     },
     "metadata": {},
     "output_type": "display_data"
    }
   ],
   "source": [
    "data['Location'].value_counts().plot.pie(autopct='%1.1f%%')"
   ]
  },
  {
   "cell_type": "code",
   "execution_count": 19,
   "id": "2f1a8d7a",
   "metadata": {},
   "outputs": [],
   "source": [
    "data['Total Bill'] = data['Subscription_Length_Months'] * data['Monthly_Bill']"
   ]
  },
  {
   "cell_type": "code",
   "execution_count": 20,
   "id": "a54f02ce",
   "metadata": {},
   "outputs": [],
   "source": [
    "data['Total_Usage_GB_range'] = pd.cut(data['Total_Usage_GB'], bins=[51, 150, 250, 350, 450, 550], labels=['51-150', '151-250', '251-350', '351-450', '451-550'])"
   ]
  },
  {
   "cell_type": "code",
   "execution_count": 21,
   "id": "e597879f",
   "metadata": {
    "scrolled": true
   },
   "outputs": [
    {
     "data": {
      "text/plain": [
       "<Axes: xlabel='Total_Usage_GB_range', ylabel='count'>"
      ]
     },
     "execution_count": 21,
     "metadata": {},
     "output_type": "execute_result"
    },
    {
     "data": {
      "image/png": "[encoded data removed]",
      "text/plain": [
       "<Figure size 640x480 with 1 Axes>"
      ]
     },
     "metadata": {},
     "output_type": "display_data"
    }
   ],
   "source": [
    "sns.countplot(x= 'Total_Usage_GB_range', data = data)"
   ]
  },
  {
   "cell_type": "code",
   "execution_count": 26,
   "id": "3ef0ef64",
   "metadata": {},
   "outputs": [
    {
     "data": {
      "text/plain": [
       "<Axes: xlabel='Gender', ylabel='Subscription_Length_Months'>"
      ]
     },
     "execution_count": 26,
     "metadata": {},
     "output_type": "execute_result"
    },
    {
     "data": {
      "image/png": "[encoded data removed]",
      "text/plain": [
       "<Figure size 640x480 with 1 Axes>"
      ]
     },
     "metadata": {},
     "output_type": "display_data"
    }
   ],
   "source": [
    "sns.barplot(x=data['Gender'], y=data['Subscription_Length_Months'])"
   ]
  },
  {
   "cell_type": "code",
   "execution_count": 24,
   "id": "8565501e",
   "metadata": {},
   "outputs": [
    {
     "name": "stdout",
     "output_type": "stream",
     "text": [
      "<class 'pandas.core.frame.DataFrame'>\n",
      "RangeIndex: 100000 entries, 0 to 99999\n",
      "Data columns (total 11 columns):\n",
      " #   Column                      Non-Null Count   Dtype   \n",
      "---  ------                      --------------   -----   \n",
      " 0   CustomerID                  100000 non-null  int64   \n",
      " 1   Age                         100000 non-null  int64   \n",
      " 2   Gender                      100000 non-null  object  \n",
      " 3   Location                    100000 non-null  object  \n",
      " 4   Subscription_Length_Months  100000 non-null  int64   \n",
      " 5   Monthly_Bill                100000 non-null  float64 \n",
      " 6   Total_Usage_GB              100000 non-null  int64   \n",
      " 7   Churn                       100000 non-null  int64   \n",
      " 8   Age_range                   100000 non-null  category\n",
      " 9   Total Bill                  100000 non-null  float64 \n",
      " 10  Total_Usage_GB_range        99536 non-null   category\n",
      "dtypes: category(2), float64(2), int64(5), object(2)\n",
      "memory usage: 7.1+ MB\n"
     ]
    }
   ],
   "source": [
    "data.info()"
   ]
  },
  {
   "cell_type": "code",
   "execution_count": 28,
   "id": "b78c9683",
   "metadata": {},
   "outputs": [
    {
     "name": "stdout",
     "output_type": "stream",
     "text": [
      "Index(['Gender', 'Location'], dtype='object')\n",
      "Index(['CustomerID', 'Age', 'Subscription_Length_Months', 'Monthly_Bill',\n",
      "       'Total_Usage_GB', 'Total Bill'],\n",
      "      dtype='object')\n"
     ]
    }
   ],
   "source": [
    "# Categorical & Numerical Column names seperation:\n",
    "# ------------------------------------------------\n",
    "\n",
    "cat_cols = data.select_dtypes('object').columns\n",
    "print(cat_cols)\n",
    "\n",
    "num_cols = data.drop(columns='Churn').select_dtypes(['int','float']).columns\n",
    "print(num_cols)"
   ]
  },
  {
   "cell_type": "code",
   "execution_count": 33,
   "id": "67e9c077",
   "metadata": {},
   "outputs": [],
   "source": [
    "categorical_preprocessing = Pipeline([\n",
    "        ('Categorical Imputer',SimpleImputer(strategy='most_frequent')),\n",
    "        ('Encoding',OneHotEncoder(sparse = False,handle_unknown='ignore'))\n",
    "    ])\n",
    "\n",
    "numerical_preprocessing = Pipeline([\n",
    "        ('Numerical Imputer',SimpleImputer(strategy='mean')),\n",
    "        ('Scaling',MinMaxScaler())\n",
    "    ])"
   ]
  },
  {
   "cell_type": "code",
   "execution_count": 34,
   "id": "36119afb",
   "metadata": {},
   "outputs": [],
   "source": [
    "Final_preprocessing = ColumnTransformer(\n",
    "transformers = \n",
    "    [\n",
    "    ('categorical preprocessing',categorical_preprocessing,cat_cols),\n",
    "    ('numerical preprocessing',numerical_preprocessing,num_cols)      \n",
    "])"
   ]
  },
  {
   "cell_type": "code",
   "execution_count": 35,
   "id": "f864edf7",
   "metadata": {},
   "outputs": [],
   "source": [
    "Package = Pipeline([\n",
    "   ('Preprocessing',Final_preprocessing),\n",
    "   ('model',LogisticRegression())\n",
    "])"
   ]
  },
  {
   "cell_type": "code",
   "execution_count": 37,
   "id": "46ced297",
   "metadata": {},
   "outputs": [
    {
     "data": {
      "text/plain": [
       "['LogisticRegression.pkl']"
      ]
     },
     "execution_count": 37,
     "metadata": {},
     "output_type": "execute_result"
    }
   ],
   "source": [
    "# Model saving/Loading Library\n",
    "import joblib\n",
    "joblib.dump(Package,'LogisticRegression.pkl')"
   ]
  },
  {
   "cell_type": "code",
   "execution_count": 38,
   "id": "37222b52",
   "metadata": {},
   "outputs": [],
   "source": [
    "x= data.drop(columns = 'Churn')"
   ]
  },
  {
   "cell_type": "code",
   "execution_count": 39,
   "id": "37def6a3",
   "metadata": {},
   "outputs": [],
   "source": [
    "y = data['Churn']"
   ]
  },
  {
   "cell_type": "code",
   "execution_count": 40,
   "id": "cfe482a0",
   "metadata": {},
   "outputs": [
    {
     "name": "stderr",
     "output_type": "stream",
     "text": [
      "C:\\Users\\yamin\\anaconda3\\lib\\site-packages\\sklearn\\preprocessing\\_encoders.py:972: FutureWarning: `sparse` was renamed to `sparse_output` in version 1.2 and will be removed in 1.4. `sparse_output` is ignored unless you leave `sparse` to its default value.\n",
      "  warnings.warn(\n"
     ]
    },
    {
     "data": {
      "text/html": [
       "<style>#sk-container-id-1 {color: black;}#sk-container-id-1 pre{padding: 0;}#sk-container-id-1 div.sk-toggleable {background-color: white;}#sk-container-id-1 label.sk-toggleable__label {cursor: pointer;display: block;width: 100%;margin-bottom: 0;padding: 0.3em;box-sizing: border-box;text-align: center;}#sk-container-id-1 label.sk-toggleable__label-arrow:before {content: \"▸\";float: left;margin-right: 0.25em;color: #696969;}#sk-container-id-1 label.sk-toggleable__label-arrow:hover:before {color: black;}#sk-container-id-1 div.sk-estimator:hover label.sk-toggleable__label-arrow:before {color: black;}#sk-container-id-1 div.sk-toggleable__content {max-height: 0;max-width: 0;overflow: hidden;text-align: left;background-color: #f0f8ff;}#sk-container-id-1 div.sk-toggleable__content pre {margin: 0.2em;color: black;border-radius: 0.25em;background-color: #f0f8ff;}#sk-container-id-1 input.sk-toggleable__control:checked~div.sk-toggleable__content {max-height: 200px;max-width: 100%;overflow: auto;}#sk-container-id-1 input.sk-toggleable__control:checked~label.sk-toggleable__label-arrow:before {content: \"▾\";}#sk-container-id-1 div.sk-estimator input.sk-toggleable__control:checked~label.sk-toggleable__label {background-color: #d4ebff;}#sk-container-id-1 div.sk-label input.sk-toggleable__control:checked~label.sk-toggleable__label {background-color: #d4ebff;}#sk-container-id-1 input.sk-hidden--visually {border: 0;clip: rect(1px 1px 1px 1px);clip: rect(1px, 1px, 1px, 1px);height: 1px;margin: -1px;overflow: hidden;padding: 0;position: absolute;width: 1px;}#sk-container-id-1 div.sk-estimator {font-family: monospace;background-color: #f0f8ff;border: 1px dotted black;border-radius: 0.25em;box-sizing: border-box;margin-bottom: 0.5em;}#sk-container-id-1 div.sk-estimator:hover {background-color: #d4ebff;}#sk-container-id-1 div.sk-parallel-item::after {content: \"\";width: 100%;border-bottom: 1px solid gray;flex-grow: 1;}#sk-container-id-1 div.sk-label:hover label.sk-toggleable__label {background-color: #d4ebff;}#sk-container-id-1 div.sk-serial::before {content: \"\";position: absolute;border-left: 1px solid gray;box-sizing: border-box;top: 0;bottom: 0;left: 50%;z-index: 0;}#sk-container-id-1 div.sk-serial {display: flex;flex-direction: column;align-items: center;background-color: white;padding-right: 0.2em;padding-left: 0.2em;position: relative;}#sk-container-id-1 div.sk-item {position: relative;z-index: 1;}#sk-container-id-1 div.sk-parallel {display: flex;align-items: stretch;justify-content: center;background-color: white;position: relative;}#sk-container-id-1 div.sk-item::before, #sk-container-id-1 div.sk-parallel-item::before {content: \"\";position: absolute;border-left: 1px solid gray;box-sizing: border-box;top: 0;bottom: 0;left: 50%;z-index: -1;}#sk-container-id-1 div.sk-parallel-item {display: flex;flex-direction: column;z-index: 1;position: relative;background-color: white;}#sk-container-id-1 div.sk-parallel-item:first-child::after {align-self: flex-end;width: 50%;}#sk-container-id-1 div.sk-parallel-item:last-child::after {align-self: flex-start;width: 50%;}#sk-container-id-1 div.sk-parallel-item:only-child::after {width: 0;}#sk-container-id-1 div.sk-dashed-wrapped {border: 1px dashed gray;margin: 0 0.4em 0.5em 0.4em;box-sizing: border-box;padding-bottom: 0.4em;background-color: white;}#sk-container-id-1 div.sk-label label {font-family: monospace;font-weight: bold;display: inline-block;line-height: 1.2em;}#sk-container-id-1 div.sk-label-container {text-align: center;}#sk-container-id-1 div.sk-container {/* jupyter's `normalize.less` sets `[hidden] { display: none; }` but bootstrap.min.css set `[hidden] { display: none !important; }` so we also need the `!important` here to be able to override the default hidden behavior on the sphinx rendered scikit-learn.org. See: https://github.com/scikit-learn/scikit-learn/issues/21755 */display: inline-block !important;position: relative;}#sk-container-id-1 div.sk-text-repr-fallback {display: none;}</style><div id=\"sk-container-id-1\" class=\"sk-top-container\"><div class=\"sk-text-repr-fallback\"><pre>Pipeline(steps=[(&#x27;Preprocessing&#x27;,\n",
       "                 ColumnTransformer(transformers=[(&#x27;categorical preprocessing&#x27;,\n",
       "                                                  Pipeline(steps=[(&#x27;Categorical &#x27;\n",
       "                                                                   &#x27;Imputer&#x27;,\n",
       "                                                                   SimpleImputer(strategy=&#x27;most_frequent&#x27;)),\n",
       "                                                                  (&#x27;Encoding&#x27;,\n",
       "                                                                   OneHotEncoder(handle_unknown=&#x27;ignore&#x27;,\n",
       "                                                                                 sparse=False))]),\n",
       "                                                  Index([&#x27;Gender&#x27;, &#x27;Location&#x27;], dtype=&#x27;object&#x27;)),\n",
       "                                                 (&#x27;numerical preprocessing&#x27;,\n",
       "                                                  Pipeline(steps=[(&#x27;Numerical &#x27;\n",
       "                                                                   &#x27;Imputer&#x27;,\n",
       "                                                                   SimpleImputer()),\n",
       "                                                                  (&#x27;Scaling&#x27;,\n",
       "                                                                   MinMaxScaler())]),\n",
       "                                                  Index([&#x27;CustomerID&#x27;, &#x27;Age&#x27;, &#x27;Subscription_Length_Months&#x27;, &#x27;Monthly_Bill&#x27;,\n",
       "       &#x27;Total_Usage_GB&#x27;, &#x27;Total Bill&#x27;],\n",
       "      dtype=&#x27;object&#x27;))])),\n",
       "                (&#x27;model&#x27;, LogisticRegression())])</pre><b>In a Jupyter environment, please rerun this cell to show the HTML representation or trust the notebook. <br />On GitHub, the HTML representation is unable to render, please try loading this page with nbviewer.org.</b></div><div class=\"sk-container\" hidden><div class=\"sk-item sk-dashed-wrapped\"><div class=\"sk-label-container\"><div class=\"sk-label sk-toggleable\"><input class=\"sk-toggleable__control sk-hidden--visually\" id=\"sk-estimator-id-1\" type=\"checkbox\" ><label for=\"sk-estimator-id-1\" class=\"sk-toggleable__label sk-toggleable__label-arrow\">Pipeline</label><div class=\"sk-toggleable__content\"><pre>Pipeline(steps=[(&#x27;Preprocessing&#x27;,\n",
       "                 ColumnTransformer(transformers=[(&#x27;categorical preprocessing&#x27;,\n",
       "                                                  Pipeline(steps=[(&#x27;Categorical &#x27;\n",
       "                                                                   &#x27;Imputer&#x27;,\n",
       "                                                                   SimpleImputer(strategy=&#x27;most_frequent&#x27;)),\n",
       "                                                                  (&#x27;Encoding&#x27;,\n",
       "                                                                   OneHotEncoder(handle_unknown=&#x27;ignore&#x27;,\n",
       "                                                                                 sparse=False))]),\n",
       "                                                  Index([&#x27;Gender&#x27;, &#x27;Location&#x27;], dtype=&#x27;object&#x27;)),\n",
       "                                                 (&#x27;numerical preprocessing&#x27;,\n",
       "                                                  Pipeline(steps=[(&#x27;Numerical &#x27;\n",
       "                                                                   &#x27;Imputer&#x27;,\n",
       "                                                                   SimpleImputer()),\n",
       "                                                                  (&#x27;Scaling&#x27;,\n",
       "                                                                   MinMaxScaler())]),\n",
       "                                                  Index([&#x27;CustomerID&#x27;, &#x27;Age&#x27;, &#x27;Subscription_Length_Months&#x27;, &#x27;Monthly_Bill&#x27;,\n",
       "       &#x27;Total_Usage_GB&#x27;, &#x27;Total Bill&#x27;],\n",
       "      dtype=&#x27;object&#x27;))])),\n",
       "                (&#x27;model&#x27;, LogisticRegression())])</pre></div></div></div><div class=\"sk-serial\"><div class=\"sk-item sk-dashed-wrapped\"><div class=\"sk-label-container\"><div class=\"sk-label sk-toggleable\"><input class=\"sk-toggleable__control sk-hidden--visually\" id=\"sk-estimator-id-2\" type=\"checkbox\" ><label for=\"sk-estimator-id-2\" class=\"sk-toggleable__label sk-toggleable__label-arrow\">Preprocessing: ColumnTransformer</label><div class=\"sk-toggleable__content\"><pre>ColumnTransformer(transformers=[(&#x27;categorical preprocessing&#x27;,\n",
       "                                 Pipeline(steps=[(&#x27;Categorical Imputer&#x27;,\n",
       "                                                  SimpleImputer(strategy=&#x27;most_frequent&#x27;)),\n",
       "                                                 (&#x27;Encoding&#x27;,\n",
       "                                                  OneHotEncoder(handle_unknown=&#x27;ignore&#x27;,\n",
       "                                                                sparse=False))]),\n",
       "                                 Index([&#x27;Gender&#x27;, &#x27;Location&#x27;], dtype=&#x27;object&#x27;)),\n",
       "                                (&#x27;numerical preprocessing&#x27;,\n",
       "                                 Pipeline(steps=[(&#x27;Numerical Imputer&#x27;,\n",
       "                                                  SimpleImputer()),\n",
       "                                                 (&#x27;Scaling&#x27;, MinMaxScaler())]),\n",
       "                                 Index([&#x27;CustomerID&#x27;, &#x27;Age&#x27;, &#x27;Subscription_Length_Months&#x27;, &#x27;Monthly_Bill&#x27;,\n",
       "       &#x27;Total_Usage_GB&#x27;, &#x27;Total Bill&#x27;],\n",
       "      dtype=&#x27;object&#x27;))])</pre></div></div></div><div class=\"sk-parallel\"><div class=\"sk-parallel-item\"><div class=\"sk-item\"><div class=\"sk-label-container\"><div class=\"sk-label sk-toggleable\"><input class=\"sk-toggleable__control sk-hidden--visually\" id=\"sk-estimator-id-3\" type=\"checkbox\" ><label for=\"sk-estimator-id-3\" class=\"sk-toggleable__label sk-toggleable__label-arrow\">categorical preprocessing</label><div class=\"sk-toggleable__content\"><pre>Index([&#x27;Gender&#x27;, &#x27;Location&#x27;], dtype=&#x27;object&#x27;)</pre></div></div></div><div class=\"sk-serial\"><div class=\"sk-item\"><div class=\"sk-serial\"><div class=\"sk-item\"><div class=\"sk-estimator sk-toggleable\"><input class=\"sk-toggleable__control sk-hidden--visually\" id=\"sk-estimator-id-4\" type=\"checkbox\" ><label for=\"sk-estimator-id-4\" class=\"sk-toggleable__label sk-toggleable__label-arrow\">SimpleImputer</label><div class=\"sk-toggleable__content\"><pre>SimpleImputer(strategy=&#x27;most_frequent&#x27;)</pre></div></div></div><div class=\"sk-item\"><div class=\"sk-estimator sk-toggleable\"><input class=\"sk-toggleable__control sk-hidden--visually\" id=\"sk-estimator-id-5\" type=\"checkbox\" ><label for=\"sk-estimator-id-5\" class=\"sk-toggleable__label sk-toggleable__label-arrow\">OneHotEncoder</label><div class=\"sk-toggleable__content\"><pre>OneHotEncoder(handle_unknown=&#x27;ignore&#x27;, sparse=False)</pre></div></div></div></div></div></div></div></div><div class=\"sk-parallel-item\"><div class=\"sk-item\"><div class=\"sk-label-container\"><div class=\"sk-label sk-toggleable\"><input class=\"sk-toggleable__control sk-hidden--visually\" id=\"sk-estimator-id-6\" type=\"checkbox\" ><label for=\"sk-estimator-id-6\" class=\"sk-toggleable__label sk-toggleable__label-arrow\">numerical preprocessing</label><div class=\"sk-toggleable__content\"><pre>Index([&#x27;CustomerID&#x27;, &#x27;Age&#x27;, &#x27;Subscription_Length_Months&#x27;, &#x27;Monthly_Bill&#x27;,\n",
       "       &#x27;Total_Usage_GB&#x27;, &#x27;Total Bill&#x27;],\n",
       "      dtype=&#x27;object&#x27;)</pre></div></div></div><div class=\"sk-serial\"><div class=\"sk-item\"><div class=\"sk-serial\"><div class=\"sk-item\"><div class=\"sk-estimator sk-toggleable\"><input class=\"sk-toggleable__control sk-hidden--visually\" id=\"sk-estimator-id-7\" type=\"checkbox\" ><label for=\"sk-estimator-id-7\" class=\"sk-toggleable__label sk-toggleable__label-arrow\">SimpleImputer</label><div class=\"sk-toggleable__content\"><pre>SimpleImputer()</pre></div></div></div><div class=\"sk-item\"><div class=\"sk-estimator sk-toggleable\"><input class=\"sk-toggleable__control sk-hidden--visually\" id=\"sk-estimator-id-8\" type=\"checkbox\" ><label for=\"sk-estimator-id-8\" class=\"sk-toggleable__label sk-toggleable__label-arrow\">MinMaxScaler</label><div class=\"sk-toggleable__content\"><pre>MinMaxScaler()</pre></div></div></div></div></div></div></div></div></div></div><div class=\"sk-item\"><div class=\"sk-estimator sk-toggleable\"><input class=\"sk-toggleable__control sk-hidden--visually\" id=\"sk-estimator-id-9\" type=\"checkbox\" ><label for=\"sk-estimator-id-9\" class=\"sk-toggleable__label sk-toggleable__label-arrow\">LogisticRegression</label><div class=\"sk-toggleable__content\"><pre>LogisticRegression()</pre></div></div></div></div></div></div></div>"
      ],
      "text/plain": [
       "Pipeline(steps=[('Preprocessing',\n",
       "                 ColumnTransformer(transformers=[('categorical preprocessing',\n",
       "                                                  Pipeline(steps=[('Categorical '\n",
       "                                                                   'Imputer',\n",
       "                                                                   SimpleImputer(strategy='most_frequent')),\n",
       "                                                                  ('Encoding',\n",
       "                                                                   OneHotEncoder(handle_unknown='ignore',\n",
       "                                                                                 sparse=False))]),\n",
       "                                                  Index(['Gender', 'Location'], dtype='object')),\n",
       "                                                 ('numerical preprocessing',\n",
       "                                                  Pipeline(steps=[('Numerical '\n",
       "                                                                   'Imputer',\n",
       "                                                                   SimpleImputer()),\n",
       "                                                                  ('Scaling',\n",
       "                                                                   MinMaxScaler())]),\n",
       "                                                  Index(['CustomerID', 'Age', 'Subscription_Length_Months', 'Monthly_Bill',\n",
       "       'Total_Usage_GB', 'Total Bill'],\n",
       "      dtype='object'))])),\n",
       "                ('model', LogisticRegression())])"
      ]
     },
     "execution_count": 40,
     "metadata": {},
     "output_type": "execute_result"
    }
   ],
   "source": [
    "Package.fit(x,y)"
   ]
  },
  {
   "cell_type": "code",
   "execution_count": null,
   "id": "e0ebc25c",
   "metadata": {},
   "outputs": [],
   "source": []
  },
  {
   "cell_type": "code",
   "execution_count": null,
   "id": "6ec76d16",
   "metadata": {},
   "outputs": [],
   "source": []
  },
  {
   "cell_type": "code",
   "execution_count": null,
   "id": "b4a10fed",
   "metadata": {},
   "outputs": [],
   "source": []
  },
  {
   "cell_type": "code",
   "execution_count": null,
   "id": "1cc3e37d",
   "metadata": {},
   "outputs": [],
   "source": []
  },
  {
   "cell_type": "markdown",
   "id": "59eee35d",
   "metadata": {},
   "source": [
    "## EDA\n",
    "1. Only 0.2% more are Female users\n",
    "2. Age range between 36-50 and 51-65 are more subscribers and 0-18 are less.\n",
    "3. Houston has more subscribers and NewYork has the least."
   ]
  },
  {
   "cell_type": "code",
   "execution_count": 44,
   "id": "730d8973",
   "metadata": {},
   "outputs": [
    {
     "data": {
      "text/plain": [
       "<Axes: ylabel='Gender'>"
      ]
     },
     "execution_count": 44,
     "metadata": {},
     "output_type": "execute_result"
    },
    {
     "data": {
      "image/png": "[encoded data removed]",
      "text/plain": [
       "<Figure size 640x480 with 1 Axes>"
      ]
     },
     "metadata": {},
     "output_type": "display_data"
    }
   ],
   "source": [
    "data['Gender'].value_counts().plot.pie(autopct = '%1.1f%%')"
   ]
  },
  {
   "cell_type": "code",
   "execution_count": 45,
   "id": "cdf52d44",
   "metadata": {},
   "outputs": [
    {
     "data": {
      "text/plain": [
       "array([63, 62, 24, 36, 46, 67, 30, 20, 53, 50, 44, 34, 28, 42, 55, 43, 31,\n",
       "       41, 58, 64, 70, 18, 25, 27, 66, 29, 60, 26, 45, 19, 37, 49, 38, 57,\n",
       "       47, 48, 40, 21, 33, 51, 35, 69, 61, 52, 39, 56, 59, 65, 22, 54, 68,\n",
       "       32, 23], dtype=int64)"
      ]
     },
     "execution_count": 45,
     "metadata": {},
     "output_type": "execute_result"
    }
   ],
   "source": [
    "data['Age'].unique()"
   ]
  },
  {
   "cell_type": "code",
   "execution_count": 49,
   "id": "d8554382",
   "metadata": {},
   "outputs": [],
   "source": [
    "data['Age_range'] = pd.cut(data['Age'], bins=[0, 18, 25, 35, 50, 65, 100], labels=['0-18', '19-25', '26-35', '36-50', '51-65', '65+'])"
   ]
  },
  {
   "cell_type": "code",
   "execution_count": 50,
   "id": "acdaf8f0",
   "metadata": {},
   "outputs": [
    {
     "data": {
      "text/html": [
       "<div>\n",
       "<style scoped>\n",
       "    .dataframe tbody tr th:only-of-type {\n",
       "        vertical-align: middle;\n",
       "    }\n",
       "\n",
       "    .dataframe tbody tr th {\n",
       "        vertical-align: top;\n",
       "    }\n",
       "\n",
       "    .dataframe thead th {\n",
       "        text-align: right;\n",
       "    }\n",
       "</style>\n",
       "<table border=\"1\" class=\"dataframe\">\n",
       "  <thead>\n",
       "    <tr style=\"text-align: right;\">\n",
       "      <th></th>\n",
       "      <th>CustomerID</th>\n",
       "      <th>Age</th>\n",
       "      <th>Gender</th>\n",
       "      <th>Location</th>\n",
       "      <th>Subscription_Length_Months</th>\n",
       "      <th>Monthly_Bill</th>\n",
       "      <th>Total_Usage_GB</th>\n",
       "      <th>Churn</th>\n",
       "      <th>age_range</th>\n",
       "      <th>Age_range</th>\n",
       "    </tr>\n",
       "  </thead>\n",
       "  <tbody>\n",
       "    <tr>\n",
       "      <th>0</th>\n",
       "      <td>1</td>\n",
       "      <td>63</td>\n",
       "      <td>Male</td>\n",
       "      <td>Los Angeles</td>\n",
       "      <td>17</td>\n",
       "      <td>73.36</td>\n",
       "      <td>236</td>\n",
       "      <td>0</td>\n",
       "      <td>51-65</td>\n",
       "      <td>51-65</td>\n",
       "    </tr>\n",
       "    <tr>\n",
       "      <th>1</th>\n",
       "      <td>2</td>\n",
       "      <td>62</td>\n",
       "      <td>Female</td>\n",
       "      <td>New York</td>\n",
       "      <td>1</td>\n",
       "      <td>48.76</td>\n",
       "      <td>172</td>\n",
       "      <td>0</td>\n",
       "      <td>51-65</td>\n",
       "      <td>51-65</td>\n",
       "    </tr>\n",
       "    <tr>\n",
       "      <th>2</th>\n",
       "      <td>3</td>\n",
       "      <td>24</td>\n",
       "      <td>Female</td>\n",
       "      <td>Los Angeles</td>\n",
       "      <td>5</td>\n",
       "      <td>85.47</td>\n",
       "      <td>460</td>\n",
       "      <td>0</td>\n",
       "      <td>19-25</td>\n",
       "      <td>19-25</td>\n",
       "    </tr>\n",
       "    <tr>\n",
       "      <th>3</th>\n",
       "      <td>4</td>\n",
       "      <td>36</td>\n",
       "      <td>Female</td>\n",
       "      <td>Miami</td>\n",
       "      <td>3</td>\n",
       "      <td>97.94</td>\n",
       "      <td>297</td>\n",
       "      <td>1</td>\n",
       "      <td>36-50</td>\n",
       "      <td>36-50</td>\n",
       "    </tr>\n",
       "    <tr>\n",
       "      <th>4</th>\n",
       "      <td>5</td>\n",
       "      <td>46</td>\n",
       "      <td>Female</td>\n",
       "      <td>Miami</td>\n",
       "      <td>19</td>\n",
       "      <td>58.14</td>\n",
       "      <td>266</td>\n",
       "      <td>0</td>\n",
       "      <td>36-50</td>\n",
       "      <td>36-50</td>\n",
       "    </tr>\n",
       "  </tbody>\n",
       "</table>\n",
       "</div>"
      ],
      "text/plain": [
       "   CustomerID  Age  Gender     Location  Subscription_Length_Months  \\\n",
       "0           1   63    Male  Los Angeles                          17   \n",
       "1           2   62  Female     New York                           1   \n",
       "2           3   24  Female  Los Angeles                           5   \n",
       "3           4   36  Female        Miami                           3   \n",
       "4           5   46  Female        Miami                          19   \n",
       "\n",
       "   Monthly_Bill  Total_Usage_GB  Churn age_range Age_range  \n",
       "0         73.36             236      0     51-65     51-65  \n",
       "1         48.76             172      0     51-65     51-65  \n",
       "2         85.47             460      0     19-25     19-25  \n",
       "3         97.94             297      1     36-50     36-50  \n",
       "4         58.14             266      0     36-50     36-50  "
      ]
     },
     "execution_count": 50,
     "metadata": {},
     "output_type": "execute_result"
    }
   ],
   "source": [
    "data.head(5)"
   ]
  },
  {
   "cell_type": "code",
   "execution_count": 54,
   "id": "30d2636a",
   "metadata": {},
   "outputs": [],
   "source": [
    "data = data.drop(columns = ['Age','age_range'])"
   ]
  },
  {
   "cell_type": "code",
   "execution_count": 55,
   "id": "35ab8b56",
   "metadata": {},
   "outputs": [
    {
     "data": {
      "text/plain": [
       "<Axes: xlabel='Age_range', ylabel='count'>"
      ]
     },
     "execution_count": 55,
     "metadata": {},
     "output_type": "execute_result"
    },
    {
     "data": {
      "image/png": "[encoded data removed]",
      "text/plain": [
       "<Figure size 640x480 with 1 Axes>"
      ]
     },
     "metadata": {},
     "output_type": "display_data"
    }
   ],
   "source": [
    "sns.countplot(x= 'Age_range', data = data)"
   ]
  },
  {
   "cell_type": "code",
   "execution_count": 56,
   "id": "951281ac",
   "metadata": {
    "scrolled": true
   },
   "outputs": [
    {
     "data": {
      "text/plain": [
       "<Axes: ylabel='Location'>"
      ]
     },
     "execution_count": 56,
     "metadata": {},
     "output_type": "execute_result"
    },
    {
     "data": {
      "image/png": "[encoded data removed]",
      "text/plain": [
       "<Figure size 640x480 with 1 Axes>"
      ]
     },
     "metadata": {},
     "output_type": "display_data"
    }
   ],
   "source": [
    "data['Location'].value_counts().plot.pie(autopct='%1.1f%%')"
   ]
  },
  {
   "cell_type": "markdown",
   "id": "51b2c2df",
   "metadata": {},
   "source": [
    "## EDA- BIvariate\n",
    "As Subcriber months increase more is total bill"
   ]
  },
  {
   "cell_type": "code",
   "execution_count": 65,
   "id": "b56136e5",
   "metadata": {},
   "outputs": [
    {
     "data": {
      "text/plain": [
       "<seaborn.axisgrid.FacetGrid at 0x20782dd8940>"
      ]
     },
     "execution_count": 65,
     "metadata": {},
     "output_type": "execute_result"
    },
    {
     "data": {
      "image/png": "[encoded data removed]",
      "text/plain": [
       "<Figure size 500x500 with 1 Axes>"
      ]
     },
     "metadata": {},
     "output_type": "display_data"
    }
   ],
   "source": [
    "sns.catplot(x='Subscription_Length_Months', y='Total Bill', data = data, kind='point' )"
   ]
  },
  {
   "cell_type": "code",
   "execution_count": 60,
   "id": "b56d55ef",
   "metadata": {},
   "outputs": [
    {
     "data": {
      "text/plain": [
       "array([17,  1,  5,  3, 19, 15, 10, 12, 20, 13,  8, 23,  2,  4, 18,  9, 14,\n",
       "       16,  6,  7, 24, 22, 11, 21], dtype=int64)"
      ]
     },
     "execution_count": 60,
     "metadata": {},
     "output_type": "execute_result"
    }
   ],
   "source": [
    "data['Subscription_Length_Months'].unique()"
   ]
  },
  {
   "cell_type": "code",
   "execution_count": 61,
   "id": "6534d7db",
   "metadata": {},
   "outputs": [],
   "source": [
    "data['Total Bill'] = data['Subscription_Length_Months'] * data['Monthly_Bill']"
   ]
  },
  {
   "cell_type": "code",
   "execution_count": 63,
   "id": "464d395e",
   "metadata": {},
   "outputs": [
    {
     "data": {
      "text/html": [
       "<div>\n",
       "<style scoped>\n",
       "    .dataframe tbody tr th:only-of-type {\n",
       "        vertical-align: middle;\n",
       "    }\n",
       "\n",
       "    .dataframe tbody tr th {\n",
       "        vertical-align: top;\n",
       "    }\n",
       "\n",
       "    .dataframe thead th {\n",
       "        text-align: right;\n",
       "    }\n",
       "</style>\n",
       "<table border=\"1\" class=\"dataframe\">\n",
       "  <thead>\n",
       "    <tr style=\"text-align: right;\">\n",
       "      <th></th>\n",
       "      <th>CustomerID</th>\n",
       "      <th>Gender</th>\n",
       "      <th>Location</th>\n",
       "      <th>Subscription_Length_Months</th>\n",
       "      <th>Monthly_Bill</th>\n",
       "      <th>Total_Usage_GB</th>\n",
       "      <th>Churn</th>\n",
       "      <th>Age_range</th>\n",
       "      <th>Total Bill</th>\n",
       "    </tr>\n",
       "  </thead>\n",
       "  <tbody>\n",
       "    <tr>\n",
       "      <th>0</th>\n",
       "      <td>1</td>\n",
       "      <td>Male</td>\n",
       "      <td>Los Angeles</td>\n",
       "      <td>17</td>\n",
       "      <td>73.36</td>\n",
       "      <td>236</td>\n",
       "      <td>0</td>\n",
       "      <td>51-65</td>\n",
       "      <td>1247.12</td>\n",
       "    </tr>\n",
       "    <tr>\n",
       "      <th>1</th>\n",
       "      <td>2</td>\n",
       "      <td>Female</td>\n",
       "      <td>New York</td>\n",
       "      <td>1</td>\n",
       "      <td>48.76</td>\n",
       "      <td>172</td>\n",
       "      <td>0</td>\n",
       "      <td>51-65</td>\n",
       "      <td>48.76</td>\n",
       "    </tr>\n",
       "    <tr>\n",
       "      <th>2</th>\n",
       "      <td>3</td>\n",
       "      <td>Female</td>\n",
       "      <td>Los Angeles</td>\n",
       "      <td>5</td>\n",
       "      <td>85.47</td>\n",
       "      <td>460</td>\n",
       "      <td>0</td>\n",
       "      <td>19-25</td>\n",
       "      <td>427.35</td>\n",
       "    </tr>\n",
       "    <tr>\n",
       "      <th>3</th>\n",
       "      <td>4</td>\n",
       "      <td>Female</td>\n",
       "      <td>Miami</td>\n",
       "      <td>3</td>\n",
       "      <td>97.94</td>\n",
       "      <td>297</td>\n",
       "      <td>1</td>\n",
       "      <td>36-50</td>\n",
       "      <td>293.82</td>\n",
       "    </tr>\n",
       "    <tr>\n",
       "      <th>4</th>\n",
       "      <td>5</td>\n",
       "      <td>Female</td>\n",
       "      <td>Miami</td>\n",
       "      <td>19</td>\n",
       "      <td>58.14</td>\n",
       "      <td>266</td>\n",
       "      <td>0</td>\n",
       "      <td>36-50</td>\n",
       "      <td>1104.66</td>\n",
       "    </tr>\n",
       "    <tr>\n",
       "      <th>...</th>\n",
       "      <td>...</td>\n",
       "      <td>...</td>\n",
       "      <td>...</td>\n",
       "      <td>...</td>\n",
       "      <td>...</td>\n",
       "      <td>...</td>\n",
       "      <td>...</td>\n",
       "      <td>...</td>\n",
       "      <td>...</td>\n",
       "    </tr>\n",
       "    <tr>\n",
       "      <th>99995</th>\n",
       "      <td>99996</td>\n",
       "      <td>Male</td>\n",
       "      <td>Houston</td>\n",
       "      <td>23</td>\n",
       "      <td>55.13</td>\n",
       "      <td>226</td>\n",
       "      <td>1</td>\n",
       "      <td>26-35</td>\n",
       "      <td>1267.99</td>\n",
       "    </tr>\n",
       "    <tr>\n",
       "      <th>99996</th>\n",
       "      <td>99997</td>\n",
       "      <td>Female</td>\n",
       "      <td>New York</td>\n",
       "      <td>19</td>\n",
       "      <td>61.65</td>\n",
       "      <td>351</td>\n",
       "      <td>0</td>\n",
       "      <td>51-65</td>\n",
       "      <td>1171.35</td>\n",
       "    </tr>\n",
       "    <tr>\n",
       "      <th>99997</th>\n",
       "      <td>99998</td>\n",
       "      <td>Male</td>\n",
       "      <td>Chicago</td>\n",
       "      <td>17</td>\n",
       "      <td>96.11</td>\n",
       "      <td>251</td>\n",
       "      <td>1</td>\n",
       "      <td>51-65</td>\n",
       "      <td>1633.87</td>\n",
       "    </tr>\n",
       "    <tr>\n",
       "      <th>99998</th>\n",
       "      <td>99999</td>\n",
       "      <td>Female</td>\n",
       "      <td>New York</td>\n",
       "      <td>20</td>\n",
       "      <td>49.25</td>\n",
       "      <td>434</td>\n",
       "      <td>1</td>\n",
       "      <td>51-65</td>\n",
       "      <td>985.00</td>\n",
       "    </tr>\n",
       "    <tr>\n",
       "      <th>99999</th>\n",
       "      <td>100000</td>\n",
       "      <td>Female</td>\n",
       "      <td>Los Angeles</td>\n",
       "      <td>19</td>\n",
       "      <td>76.57</td>\n",
       "      <td>173</td>\n",
       "      <td>1</td>\n",
       "      <td>26-35</td>\n",
       "      <td>1454.83</td>\n",
       "    </tr>\n",
       "  </tbody>\n",
       "</table>\n",
       "<p>100000 rows × 9 columns</p>\n",
       "</div>"
      ],
      "text/plain": [
       "       CustomerID  Gender     Location  Subscription_Length_Months  \\\n",
       "0               1    Male  Los Angeles                          17   \n",
       "1               2  Female     New York                           1   \n",
       "2               3  Female  Los Angeles                           5   \n",
       "3               4  Female        Miami                           3   \n",
       "4               5  Female        Miami                          19   \n",
       "...           ...     ...          ...                         ...   \n",
       "99995       99996    Male      Houston                          23   \n",
       "99996       99997  Female     New York                          19   \n",
       "99997       99998    Male      Chicago                          17   \n",
       "99998       99999  Female     New York                          20   \n",
       "99999      100000  Female  Los Angeles                          19   \n",
       "\n",
       "       Monthly_Bill  Total_Usage_GB  Churn Age_range  Total Bill  \n",
       "0             73.36             236      0     51-65     1247.12  \n",
       "1             48.76             172      0     51-65       48.76  \n",
       "2             85.47             460      0     19-25      427.35  \n",
       "3             97.94             297      1     36-50      293.82  \n",
       "4             58.14             266      0     36-50     1104.66  \n",
       "...             ...             ...    ...       ...         ...  \n",
       "99995         55.13             226      1     26-35     1267.99  \n",
       "99996         61.65             351      0     51-65     1171.35  \n",
       "99997         96.11             251      1     51-65     1633.87  \n",
       "99998         49.25             434      1     51-65      985.00  \n",
       "99999         76.57             173      1     26-35     1454.83  \n",
       "\n",
       "[100000 rows x 9 columns]"
      ]
     },
     "execution_count": 63,
     "metadata": {},
     "output_type": "execute_result"
    }
   ],
   "source": [
    "data"
   ]
  },
  {
   "cell_type": "code",
   "execution_count": 66,
   "id": "40150c39",
   "metadata": {},
   "outputs": [
    {
     "data": {
      "text/plain": [
       "array([236, 172, 460, 297, 266, 456, 269, 396, 150, 383, 442, 295, 148,\n",
       "       239, 233, 231, 198, 354, 429, 243, 270, 389, 226, 393,  89, 183,\n",
       "       135, 185, 151, 115, 194, 278, 423, 202, 495, 162, 101, 294, 122,\n",
       "       305, 212, 220, 253, 411, 447, 218, 221, 166,  64,  67, 391, 232,\n",
       "       298, 334, 326, 459, 371, 299, 376, 214, 329,  50, 444, 113,  76,\n",
       "       134, 184, 319, 235,  85, 332,  73, 369, 308, 446, 321,  83, 114,\n",
       "       296, 102, 215, 169, 225, 140,  84, 463, 402, 468, 375, 366, 404,\n",
       "       471, 204, 320, 178, 149, 361, 304, 281, 177, 117, 137, 322, 427,\n",
       "       403, 237, 439, 336, 344, 288, 257, 196, 365, 419, 111, 192, 244,\n",
       "       287, 395, 213, 109, 286, 283, 230, 491, 274, 335, 462, 407, 126,\n",
       "       199, 351, 261, 496, 480, 400, 303, 197, 181, 474, 348, 112, 457,\n",
       "        54, 397, 100, 318, 242, 327, 476, 256, 241, 466, 438,  51, 165,\n",
       "       120, 493,  59, 188, 339, 167, 301, 209, 311, 190, 345, 284, 390,\n",
       "        72, 258, 358, 136, 280,  55, 309, 388,  52, 478, 401, 472,  65,\n",
       "       163, 488, 497,  71, 216, 229, 271, 223, 263, 255, 145, 203, 372,\n",
       "       443, 306, 307, 386, 448, 377, 482, 324, 357, 187, 394, 123, 106,\n",
       "        80, 211,  78, 499, 498, 424, 325, 119, 143, 153, 437, 492, 406,\n",
       "        69, 272, 352, 125,  82, 160, 333, 104, 247, 405, 353,  63, 289,\n",
       "        88, 346,  91, 385, 380, 431, 364,  79, 300, 374,  86, 290, 265,\n",
       "       433, 469, 453, 224, 421, 251, 485, 180, 171,  95,  93, 350,  58,\n",
       "       200, 420, 132, 428, 479,  96, 103, 129, 417,  99, 430,  75,  53,\n",
       "       382, 412, 268, 410,  94, 315, 387, 116, 489, 108, 208, 313, 127,\n",
       "       222, 451,  56, 139, 282, 138, 141, 156, 373, 157, 467,  68, 414,\n",
       "       360, 144, 273, 217, 189, 118, 155,  62, 413, 154, 458, 449, 490,\n",
       "       464, 379, 254, 131,  92, 195, 450, 347, 191, 425, 432, 384,  57,\n",
       "       494, 173, 210, 363, 130, 487, 455, 105, 399, 323,  61, 341, 426,\n",
       "       240, 302, 176, 152, 331, 440, 276,  87, 291, 193,  90, 500, 170,\n",
       "       174, 182, 359, 408, 454, 158, 328, 436, 312, 338,  60, 362, 205,\n",
       "       416, 483, 415, 477, 484, 252, 250, 164, 146, 161, 234, 473, 317,\n",
       "        77, 267, 342, 110, 343, 133, 330, 367, 147,  81, 277, 310, 392,\n",
       "       349, 314, 107, 259, 228, 168, 246, 219,  98, 121, 142, 238, 206,\n",
       "        97, 381, 245, 175, 124, 292, 340, 316, 465, 470, 475, 248, 445,\n",
       "       452, 249, 337,  66, 418, 201, 227, 422, 481, 355, 279, 435, 275,\n",
       "       260,  70, 186, 159, 368, 179, 262, 370,  74, 378, 128, 461, 293,\n",
       "       441, 434, 207, 356, 398, 285, 409, 486, 264], dtype=int64)"
      ]
     },
     "execution_count": 66,
     "metadata": {},
     "output_type": "execute_result"
    }
   ],
   "source": [
    "data['Total_Usage_GB'].unique()"
   ]
  },
  {
   "cell_type": "code",
   "execution_count": 69,
   "id": "7e2f19d2",
   "metadata": {},
   "outputs": [],
   "source": [
    "data['Total_Usage_GB_range'] = pd.cut(data['Total_Usage_GB'], bins=[51, 150, 250, 350, 450, 550], labels=['51-150', '151-250', '251-350', '351-450', '451-550'])"
   ]
  },
  {
   "cell_type": "code",
   "execution_count": 70,
   "id": "eed07764",
   "metadata": {},
   "outputs": [
    {
     "data": {
      "text/plain": [
       "<Axes: xlabel='Total_Usage_GB_range', ylabel='count'>"
      ]
     },
     "execution_count": 70,
     "metadata": {},
     "output_type": "execute_result"
    },
    {
     "data": {
      "image/png": "[encoded data removed]",
      "text/plain": [
       "<Figure size 640x480 with 1 Axes>"
      ]
     },
     "metadata": {},
     "output_type": "display_data"
    }
   ],
   "source": [
    "sns.countplot(x= 'Total_Usage_GB_range', data = data)"
   ]
  },
  {
   "cell_type": "code",
   "execution_count": 26,
   "id": "b52ac336",
   "metadata": {},
   "outputs": [],
   "source": [
    "data_cat = data.select_dtypes(exclude = np.number)"
   ]
  },
  {
   "cell_type": "code",
   "execution_count": 27,
   "id": "d44d7d8d",
   "metadata": {},
   "outputs": [
    {
     "data": {
      "text/plain": [
       "Index(['Gender', 'Location'], dtype='object')"
      ]
     },
     "execution_count": 27,
     "metadata": {},
     "output_type": "execute_result"
    }
   ],
   "source": [
    "data_cat.columns"
   ]
  },
  {
   "cell_type": "code",
   "execution_count": 28,
   "id": "45e2e5f1",
   "metadata": {},
   "outputs": [],
   "source": [
    "data_cat = pd.get_dummies(data_cat)"
   ]
  },
  {
   "cell_type": "code",
   "execution_count": 29,
   "id": "60968f87",
   "metadata": {},
   "outputs": [],
   "source": [
    "data_cat = data_cat.reset_index().drop(columns = 'index')"
   ]
  },
  {
   "cell_type": "code",
   "execution_count": 30,
   "id": "6fedb16c",
   "metadata": {},
   "outputs": [],
   "source": [
    "data_num = data.select_dtypes(include = np.number)"
   ]
  },
  {
   "cell_type": "code",
   "execution_count": 31,
   "id": "f4fde238",
   "metadata": {},
   "outputs": [],
   "source": [
    "data_num = data_num.reset_index().drop(columns = 'index')"
   ]
  },
  {
   "cell_type": "code",
   "execution_count": 38,
   "id": "a546f1dd",
   "metadata": {},
   "outputs": [
    {
     "data": {
      "text/plain": [
       "Index(['CustomerID', 'Age', 'Subscription_Length_Months', 'Monthly_Bill',\n",
       "       'Total_Usage_GB', 'Churn'],\n",
       "      dtype='object')"
      ]
     },
     "execution_count": 38,
     "metadata": {},
     "output_type": "execute_result"
    }
   ],
   "source": [
    "data_num.columns"
   ]
  },
  {
   "cell_type": "code",
   "execution_count": 34,
   "id": "cbbbb31e",
   "metadata": {},
   "outputs": [],
   "source": [
    "data_preprocessed = pd.concat([data_num,data_cat],axis = 1)"
   ]
  },
  {
   "cell_type": "code",
   "execution_count": 35,
   "id": "50991dd5",
   "metadata": {
    "scrolled": true
   },
   "outputs": [
    {
     "data": {
      "text/html": [
       "<div>\n",
       "<style scoped>\n",
       "    .dataframe tbody tr th:only-of-type {\n",
       "        vertical-align: middle;\n",
       "    }\n",
       "\n",
       "    .dataframe tbody tr th {\n",
       "        vertical-align: top;\n",
       "    }\n",
       "\n",
       "    .dataframe thead th {\n",
       "        text-align: right;\n",
       "    }\n",
       "</style>\n",
       "<table border=\"1\" class=\"dataframe\">\n",
       "  <thead>\n",
       "    <tr style=\"text-align: right;\">\n",
       "      <th></th>\n",
       "      <th>CustomerID</th>\n",
       "      <th>Age</th>\n",
       "      <th>Subscription_Length_Months</th>\n",
       "      <th>Monthly_Bill</th>\n",
       "      <th>Total_Usage_GB</th>\n",
       "      <th>Churn</th>\n",
       "      <th>Gender_Female</th>\n",
       "      <th>Gender_Male</th>\n",
       "      <th>Location_Chicago</th>\n",
       "      <th>Location_Houston</th>\n",
       "      <th>Location_Los Angeles</th>\n",
       "      <th>Location_Miami</th>\n",
       "      <th>Location_New York</th>\n",
       "    </tr>\n",
       "  </thead>\n",
       "  <tbody>\n",
       "    <tr>\n",
       "      <th>0</th>\n",
       "      <td>1</td>\n",
       "      <td>63</td>\n",
       "      <td>17</td>\n",
       "      <td>73.36</td>\n",
       "      <td>236</td>\n",
       "      <td>0</td>\n",
       "      <td>0</td>\n",
       "      <td>1</td>\n",
       "      <td>0</td>\n",
       "      <td>0</td>\n",
       "      <td>1</td>\n",
       "      <td>0</td>\n",
       "      <td>0</td>\n",
       "    </tr>\n",
       "    <tr>\n",
       "      <th>1</th>\n",
       "      <td>2</td>\n",
       "      <td>62</td>\n",
       "      <td>1</td>\n",
       "      <td>48.76</td>\n",
       "      <td>172</td>\n",
       "      <td>0</td>\n",
       "      <td>1</td>\n",
       "      <td>0</td>\n",
       "      <td>0</td>\n",
       "      <td>0</td>\n",
       "      <td>0</td>\n",
       "      <td>0</td>\n",
       "      <td>1</td>\n",
       "    </tr>\n",
       "    <tr>\n",
       "      <th>2</th>\n",
       "      <td>3</td>\n",
       "      <td>24</td>\n",
       "      <td>5</td>\n",
       "      <td>85.47</td>\n",
       "      <td>460</td>\n",
       "      <td>0</td>\n",
       "      <td>1</td>\n",
       "      <td>0</td>\n",
       "      <td>0</td>\n",
       "      <td>0</td>\n",
       "      <td>1</td>\n",
       "      <td>0</td>\n",
       "      <td>0</td>\n",
       "    </tr>\n",
       "    <tr>\n",
       "      <th>3</th>\n",
       "      <td>4</td>\n",
       "      <td>36</td>\n",
       "      <td>3</td>\n",
       "      <td>97.94</td>\n",
       "      <td>297</td>\n",
       "      <td>1</td>\n",
       "      <td>1</td>\n",
       "      <td>0</td>\n",
       "      <td>0</td>\n",
       "      <td>0</td>\n",
       "      <td>0</td>\n",
       "      <td>1</td>\n",
       "      <td>0</td>\n",
       "    </tr>\n",
       "    <tr>\n",
       "      <th>4</th>\n",
       "      <td>5</td>\n",
       "      <td>46</td>\n",
       "      <td>19</td>\n",
       "      <td>58.14</td>\n",
       "      <td>266</td>\n",
       "      <td>0</td>\n",
       "      <td>1</td>\n",
       "      <td>0</td>\n",
       "      <td>0</td>\n",
       "      <td>0</td>\n",
       "      <td>0</td>\n",
       "      <td>1</td>\n",
       "      <td>0</td>\n",
       "    </tr>\n",
       "  </tbody>\n",
       "</table>\n",
       "</div>"
      ],
      "text/plain": [
       "   CustomerID  Age  Subscription_Length_Months  Monthly_Bill  Total_Usage_GB  \\\n",
       "0           1   63                          17         73.36             236   \n",
       "1           2   62                           1         48.76             172   \n",
       "2           3   24                           5         85.47             460   \n",
       "3           4   36                           3         97.94             297   \n",
       "4           5   46                          19         58.14             266   \n",
       "\n",
       "   Churn  Gender_Female  Gender_Male  Location_Chicago  Location_Houston  \\\n",
       "0      0              0            1                 0                 0   \n",
       "1      0              1            0                 0                 0   \n",
       "2      0              1            0                 0                 0   \n",
       "3      1              1            0                 0                 0   \n",
       "4      0              1            0                 0                 0   \n",
       "\n",
       "   Location_Los Angeles  Location_Miami  Location_New York  \n",
       "0                     1               0                  0  \n",
       "1                     0               0                  1  \n",
       "2                     1               0                  0  \n",
       "3                     0               1                  0  \n",
       "4                     0               1                  0  "
      ]
     },
     "execution_count": 35,
     "metadata": {},
     "output_type": "execute_result"
    }
   ],
   "source": [
    "data_preprocessed.head(5)"
   ]
  },
  {
   "cell_type": "code",
   "execution_count": null,
   "id": "76822647",
   "metadata": {},
   "outputs": [],
   "source": []
  },
  {
   "cell_type": "code",
   "execution_count": null,
   "id": "ed587821",
   "metadata": {},
   "outputs": [],
   "source": []
  },
  {
   "cell_type": "code",
   "execution_count": null,
   "id": "64f66674",
   "metadata": {},
   "outputs": [],
   "source": []
  },
  {
   "cell_type": "markdown",
   "id": "9bacea14",
   "metadata": {},
   "source": [
    "## Splitting train and test"
   ]
  },
  {
   "cell_type": "code",
   "execution_count": null,
   "id": "e65ab703",
   "metadata": {},
   "outputs": [],
   "source": []
  }
 ],
 "metadata": {
  "kernelspec": {
   "display_name": "Python 3 (ipykernel)",
   "language": "python",
   "name": "python3"
  },
  "language_info": {
   "codemirror_mode": {
    "name": "ipython",
    "version": 3
   },
   "file_extension": ".py",
   "mimetype": "text/x-python",
   "name": "python",
   "nbconvert_exporter": "python",
   "pygments_lexer": "ipython3",
   "version": "3.10.9"
  }
 },
 "nbformat": 4,
 "nbformat_minor": 5
}
